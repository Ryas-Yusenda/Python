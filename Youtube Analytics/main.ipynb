{
 "cells": [
  {
   "cell_type": "code",
   "execution_count": 1,
   "metadata": {},
   "outputs": [
    {
     "name": "stdout",
     "output_type": "stream",
     "text": [
      "Requirement already satisfied: youtube-comment-downloader in c:\\users\\ryas\\appdata\\local\\programs\\python\\python311\\lib\\site-packages (0.1.76)\n",
      "Requirement already satisfied: dateparser in c:\\users\\ryas\\appdata\\local\\programs\\python\\python311\\lib\\site-packages (from youtube-comment-downloader) (1.2.0)\n",
      "Requirement already satisfied: requests in c:\\users\\ryas\\appdata\\local\\programs\\python\\python311\\lib\\site-packages (from youtube-comment-downloader) (2.28.1)\n",
      "Requirement already satisfied: python-dateutil in c:\\users\\ryas\\appdata\\local\\programs\\python\\python311\\lib\\site-packages (from dateparser->youtube-comment-downloader) (2.9.0.post0)\n",
      "Requirement already satisfied: pytz in c:\\users\\ryas\\appdata\\local\\programs\\python\\python311\\lib\\site-packages (from dateparser->youtube-comment-downloader) (2024.1)\n",
      "Requirement already satisfied: regex!=2019.02.19,!=2021.8.27 in c:\\users\\ryas\\appdata\\local\\programs\\python\\python311\\lib\\site-packages (from dateparser->youtube-comment-downloader) (2024.5.15)\n",
      "Requirement already satisfied: tzlocal in c:\\users\\ryas\\appdata\\local\\programs\\python\\python311\\lib\\site-packages (from dateparser->youtube-comment-downloader) (5.2)\n",
      "Requirement already satisfied: charset-normalizer<3,>=2 in c:\\users\\ryas\\appdata\\local\\programs\\python\\python311\\lib\\site-packages (from requests->youtube-comment-downloader) (2.1.1)\n",
      "Requirement already satisfied: idna<4,>=2.5 in c:\\users\\ryas\\appdata\\local\\programs\\python\\python311\\lib\\site-packages (from requests->youtube-comment-downloader) (3.7)\n",
      "Requirement already satisfied: urllib3<1.27,>=1.21.1 in c:\\users\\ryas\\appdata\\local\\programs\\python\\python311\\lib\\site-packages (from requests->youtube-comment-downloader) (1.26.18)\n",
      "Requirement already satisfied: certifi>=2017.4.17 in c:\\users\\ryas\\appdata\\local\\programs\\python\\python311\\lib\\site-packages (from requests->youtube-comment-downloader) (2024.2.2)\n",
      "Requirement already satisfied: six>=1.5 in c:\\users\\ryas\\appdata\\local\\programs\\python\\python311\\lib\\site-packages (from python-dateutil->dateparser->youtube-comment-downloader) (1.16.0)\n",
      "Requirement already satisfied: tzdata in c:\\users\\ryas\\appdata\\local\\programs\\python\\python311\\lib\\site-packages (from tzlocal->dateparser->youtube-comment-downloader) (2024.1)\n"
     ]
    },
    {
     "name": "stderr",
     "output_type": "stream",
     "text": [
      "\n",
      "[notice] A new release of pip is available: 24.0 -> 24.2\n",
      "[notice] To update, run: python.exe -m pip install --upgrade pip\n"
     ]
    }
   ],
   "source": [
    "!pip install youtube-comment-downloader"
   ]
  },
  {
   "cell_type": "code",
   "execution_count": 15,
   "metadata": {},
   "outputs": [],
   "source": [
    "from itertools import islice\n",
    "from youtube_comment_downloader import *\n",
    "\n",
    "downloader = YoutubeCommentDownloader()\n",
    "comments = downloader.get_comments_from_url(\n",
    "    \"https://www.youtube.com/watch?v=M1YI40N2e3A\", sort_by=SORT_BY_RECENT\n",
    ")\n",
    "\n",
    "comments = list(comments)"
   ]
  },
  {
   "cell_type": "code",
   "execution_count": 16,
   "metadata": {},
   "outputs": [
    {
     "data": {
      "text/plain": [
       "917"
      ]
     },
     "execution_count": 16,
     "metadata": {},
     "output_type": "execute_result"
    }
   ],
   "source": [
    "len(comments)"
   ]
  },
  {
   "cell_type": "code",
   "execution_count": 17,
   "metadata": {},
   "outputs": [
    {
     "data": {
      "text/plain": [
       "[{'cid': 'UgyLzWVGQGf4ibq-0Up4AaABAg',\n",
       "  'text': 'Bang Besok Main Watch Dog 2 Plss',\n",
       "  'time': '41 detik yang lalu',\n",
       "  'author': '@Aish_rawrr',\n",
       "  'channel': 'UCeVcdK1ssgT3qZLxVOumvsg',\n",
       "  'votes': '0',\n",
       "  'replies': '',\n",
       "  'photo': 'https://yt3.ggpht.com/N9vEUPX3a7Dxdl3u5I3RekmZvxgY5GtcNaEFz0voq4x8iK09Uuj-kwabtIa0Twaa41REjYm6Ig=s88-c-k-c0x00ffffff-no-rj',\n",
       "  'heart': False,\n",
       "  'reply': False,\n",
       "  'time_parsed': 1728231929.667338},\n",
       " {'cid': 'UgxoolJK-EIANqeQukB4AaABAg',\n",
       "  'text': 'Siapa yang kangen bang windah main the spike lagi?😢',\n",
       "  'time': '3 menit yang lalu',\n",
       "  'author': '@FikrillFikrill',\n",
       "  'channel': 'UCuGJgsd_4vjFsc0J2FVedQw',\n",
       "  'votes': '0',\n",
       "  'replies': '',\n",
       "  'photo': 'https://yt3.ggpht.com/ytc/AIdro_mYTYoKF1B7tFs9gD1sl44yurR_Y02Iy7QE6tkZv623fEgSNVDLr4xTAKTESIRb6ryFFg=s88-c-k-c0x00ffffff-no-rj',\n",
       "  'heart': False,\n",
       "  'reply': False,\n",
       "  'time_parsed': 1728231790.671338},\n",
       " {'cid': 'UgykYOvC7-9UMw22k8x4AaABAg',\n",
       "  'text': 'brando pikun kebanyakan pmo',\n",
       "  'time': '3 menit yang lalu',\n",
       "  'author': '@pussytalk3279',\n",
       "  'channel': 'UCYvmYJnqlRHagKWzCtEXxjQ',\n",
       "  'votes': '0',\n",
       "  'replies': '',\n",
       "  'photo': 'https://yt3.ggpht.com/ytc/AIdro_kDj0ugMiMLLtKLTq-7vWd-KomUqZnKUqC5ha2MY6dkwHA=s88-c-k-c0x00ffffff-no-rj',\n",
       "  'heart': False,\n",
       "  'reply': False,\n",
       "  'time_parsed': 1728231790.675338},\n",
       " {'cid': 'UgzQmAcGNivtYNLiCSF4AaABAg',\n",
       "  'text': 'bang windah melawan beyonce',\n",
       "  'time': '4 menit yang lalu',\n",
       "  'author': '@DeriZulfadlani05',\n",
       "  'channel': 'UCuXb23ouY5OHs9eiYXCbNKw',\n",
       "  'votes': '5',\n",
       "  'replies': '',\n",
       "  'photo': 'https://yt3.ggpht.com/NJjqCA08BgYb3MFuYZqEMPFQoPZnjrnvjYnQKDkrTrhvEToUYwOJ6GIRfT1txFSVUJdBdB6l=s88-c-k-c0x00ffffff-no-rj',\n",
       "  'heart': False,\n",
       "  'reply': False,\n",
       "  'time_parsed': 1728231730.678338},\n",
       " {'cid': 'UgxPH90MN5vS3G6RXLd4AaABAg',\n",
       "  'text': 'dari game ini kita belajar jadi orang yang saling membantu bang,bukanya kaya pemerintah yang cuma memmikirkan pangkat dan uang😮',\n",
       "  'time': '23 menit yang lalu (diedit)',\n",
       "  'author': '@andriansandi2506',\n",
       "  'channel': 'UCgBk2V2AbzyS1gwcxeos5mg',\n",
       "  'votes': '0',\n",
       "  'replies': '',\n",
       "  'photo': 'https://yt3.ggpht.com/ytc/AIdro_nLOZiVoOnOY9sRG6PEfbeJQZgNEc94Ld_-R0YhapW-QHpFlNNHtQIwpPu8VJKX5wVYKg=s88-c-k-c0x00ffffff-no-rj',\n",
       "  'heart': False,\n",
       "  'reply': False,\n",
       "  'time_parsed': 1728230590.680337},\n",
       " {'cid': 'UgzgegAcQRkMHQR6Y5l4AaABAg',\n",
       "  'text': 'lanjut aja lah dgn misi yg ada namanya aja survivor pasti semua semua dikejar sama waktu serba cepet juga mepet',\n",
       "  'time': '24 menit yang lalu',\n",
       "  'author': '@hunnbear1693',\n",
       "  'channel': 'UCZb8FVPBZSa8vh-bXCWdwEA',\n",
       "  'votes': '0',\n",
       "  'replies': '',\n",
       "  'photo': 'https://yt3.ggpht.com/ytc/AIdro_kNJax6JwnhUFhV6CldscO9XLevyR_XsNpYVpAYFF4=s88-c-k-c0x00ffffff-no-rj',\n",
       "  'heart': False,\n",
       "  'reply': False,\n",
       "  'time_parsed': 1728230530.684338},\n",
       " {'cid': 'UgyLAJUTd_i_opTf-Ax4AaABAg',\n",
       "  'text': 'Bang katanax ditoko kopi tmpt fotografer gila..loncat aja dri pagar   balkon keatapx..',\n",
       "  'time': '29 menit yang lalu',\n",
       "  'author': '@YopaSukirman',\n",
       "  'channel': 'UC_R0zTj1W22qjWsqQ-A67QQ',\n",
       "  'votes': '0',\n",
       "  'replies': '',\n",
       "  'photo': 'https://yt3.ggpht.com/MhF9TRYmVFc-LABzte3O2rUhZKCT5OxtGSfXjXoP_4Mr4xEcrsJHuwJHLFAhVCfPXPjBrQXHNg=s88-c-k-c0x00ffffff-no-rj',\n",
       "  'heart': False,\n",
       "  'reply': False,\n",
       "  'time_parsed': 1728230230.687338},\n",
       " {'cid': 'UgyqAIY8JVm8z3Ltng54AaABAg',\n",
       "  'text': 'Yg make baju kuning mirip didi',\n",
       "  'time': '30 menit yang lalu',\n",
       "  'author': '@123chanel-r8w',\n",
       "  'channel': 'UC_1Ai1IujpsOExDhWS6ZWlA',\n",
       "  'votes': '0',\n",
       "  'replies': '',\n",
       "  'photo': 'https://yt3.ggpht.com/ytc/AIdro_k5je-BGi36K2482jc3HRmIRAu5gJH_ZeA0g_NoLbW-Kg=s88-c-k-c0x00ffffff-no-rj',\n",
       "  'heart': False,\n",
       "  'reply': False,\n",
       "  'time_parsed': 1728230170.691341},\n",
       " {'cid': 'Ugy9cgiQqQ-l2vKE8cN4AaABAg',\n",
       "  'text': 'bang doain gw lulus ujian 😊😊😊😊😂😂😂❤❤❤❤',\n",
       "  'time': '37 menit yang lalu',\n",
       "  'author': '@WinaldhySoleblanc',\n",
       "  'channel': 'UCDy5DGvchCkmviJRF6HtNnA',\n",
       "  'votes': '0',\n",
       "  'replies': '',\n",
       "  'photo': 'https://yt3.ggpht.com/ytc/AIdro_nNwN3M1NRuI8VqJJoeYZGsBzTA-eRrybR_bgLae8t4q9uss4ZmbKr0OLmr82Sk_0zgHg=s88-c-k-c0x00ffffff-no-rj',\n",
       "  'heart': False,\n",
       "  'reply': False,\n",
       "  'time_parsed': 1728229750.695338},\n",
       " {'cid': 'Ugzup7CvgfO4ah4BL-54AaABAg',\n",
       "  'text': 'i takotnyeeee',\n",
       "  'time': '37 menit yang lalu',\n",
       "  'author': '@asafatahr.5815',\n",
       "  'channel': 'UCMjAy8HCVg0Hcoo9fV9q8UA',\n",
       "  'votes': '0',\n",
       "  'replies': '',\n",
       "  'photo': 'https://yt3.ggpht.com/ytc/AIdro_lDLg6acnB4sJaYvqP4A9DGw-RLKtBv5DBx1uIdEbQBsg=s88-c-k-c0x00ffffff-no-rj',\n",
       "  'heart': False,\n",
       "  'reply': False,\n",
       "  'time_parsed': 1728229750.698339}]"
      ]
     },
     "execution_count": 17,
     "metadata": {},
     "output_type": "execute_result"
    }
   ],
   "source": [
    "comments[:10]"
   ]
  }
 ],
 "metadata": {
  "kernelspec": {
   "display_name": "Python 3",
   "language": "python",
   "name": "python3"
  },
  "language_info": {
   "codemirror_mode": {
    "name": "ipython",
    "version": 3
   },
   "file_extension": ".py",
   "mimetype": "text/x-python",
   "name": "python",
   "nbconvert_exporter": "python",
   "pygments_lexer": "ipython3",
   "version": "3.11.8"
  }
 },
 "nbformat": 4,
 "nbformat_minor": 2
}
