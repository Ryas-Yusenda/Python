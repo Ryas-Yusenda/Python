{
 "cells": [
  {
   "cell_type": "code",
   "execution_count": 1,
   "metadata": {},
   "outputs": [],
   "source": [
    "import os\n",
    "import re\n",
    "\n",
    "import pandas as pd\n",
    "\n",
    "# %pip install youtube-comment-downloader\n",
    "from youtube_comment_downloader import YoutubeCommentDownloader, SORT_BY_RECENT\n",
    "\n",
    "# %pip install wordcloud\n",
    "import wordcloud\n",
    "from wordcloud import WordCloud, STOPWORDS\n",
    "\n",
    "# %pip install matplotlib\n",
    "import matplotlib.pyplot as plt\n"
   ]
  },
  {
   "cell_type": "code",
   "execution_count": 5,
   "metadata": {},
   "outputs": [
    {
     "name": "stdout",
     "output_type": "stream",
     "text": [
      "Total Comments: 1321\n",
      "cid                                   UgylzVO9UeZ37EmUghp4AaABAg\n",
      "text           Link Discord MotionIme buat cari temen baru: h...\n",
      "time                                          3 minggu yang lalu\n",
      "author                                           @WindahBasudara\n",
      "channel                                 UCoIiiHof6BJ85PLuLkuxuhw\n",
      "votes                                                         52\n",
      "replies                                                        5\n",
      "photo          https://yt3.ggpht.com/8Uv2AxeLJ9px5PdeFTbtgC7c...\n",
      "heart                                                      False\n",
      "reply                                                      False\n",
      "time_parsed                                    1728418679.736678\n",
      "Name: 0, dtype: object\n",
      "Total Comments: 2838\n",
      "cid                                   UgxZnUYsWlTV8IQrriV4AaABAg\n",
      "text           Link Discord MotionIme buat cari temen baru: h...\n",
      "time                                           13 hari yang lalu\n",
      "author                                           @WindahBasudara\n",
      "channel                                 UCoIiiHof6BJ85PLuLkuxuhw\n",
      "votes                                                        202\n",
      "replies                                                       43\n",
      "photo          https://yt3.ggpht.com/8Uv2AxeLJ9px5PdeFTbtgC7c...\n",
      "heart                                                      False\n",
      "reply                                                      False\n",
      "time_parsed                                    1729109905.835104\n",
      "Name: 0, dtype: object\n"
     ]
    }
   ],
   "source": [
    "YOUTUBES_VIDEO_ID = [\"ptAaHyR2cFA\"]\n",
    "\n",
    "try:\n",
    "    for video_id in YOUTUBES_VIDEO_ID:\n",
    "        download_comments(video_id)\n",
    "        generate_wordcloud(video_id)\n",
    "except NameError as e:\n",
    "    pass\n"
   ]
  },
  {
   "cell_type": "markdown",
   "metadata": {},
   "source": [
    "# Download Comments"
   ]
  },
  {
   "cell_type": "code",
   "execution_count": 3,
   "metadata": {},
   "outputs": [],
   "source": [
    "def download_comments(video_id):\n",
    "    downloader = YoutubeCommentDownloader()\n",
    "    comments = downloader.get_comments(video_id, sort_by=SORT_BY_RECENT)\n",
    "\n",
    "    comments = pd.DataFrame(comments)\n",
    "\n",
    "    print(f\"Total Comments: {len(comments)}\")\n",
    "\n",
    "    os.makedirs(f\"data/{video_id}\", exist_ok=True)\n",
    "\n",
    "    # Save to CSV\n",
    "    comments.to_feather(f\"data/{video_id}/comments.feather\")\n",
    "\n",
    "    print(comments.iloc[0])\n",
    "    return comments"
   ]
  },
  {
   "cell_type": "markdown",
   "metadata": {},
   "source": [
    "# Word Cloud"
   ]
  },
  {
   "cell_type": "code",
   "execution_count": 4,
   "metadata": {},
   "outputs": [],
   "source": [
    "def generate_wordcloud(video_id):\n",
    "    if os.path.exists(f\"data/{video_id}/all_comments.txt\"):\n",
    "        with open(f\"data/{video_id}/all_comments.txt\", \"r\") as f:\n",
    "            all_comments = f.read()\n",
    "    else:\n",
    "        comments = pd.read_feather(f\"data/{video_id}/comments.feather\")\n",
    "    \n",
    "        all_comments = \"\"\n",
    "\n",
    "        for i in range(len(comments)):\n",
    "            comment = comments.iloc[i]['text'].lower()\n",
    "            comment = re.sub('[^a-zA-Z]', '', comment)\n",
    "            comment = re.sub('\\s+', ' ', comment)  # Clean multiple spaces into single space\n",
    "            all_comments += comment\n",
    "\n",
    "        with open(f\"data/{video_id}/all_comments.txt\", \"w\") as f:\n",
    "            f.write(all_comments)\n",
    "\n",
    "    wordcloud = WordCloud(width=800, height=400, background_color=\"white\").generate(\n",
    "        all_comments\n",
    "    )\n",
    "\n",
    "    # Display the word cloud\n",
    "    plt.figure(figsize=(10, 5))\n",
    "    plt.imshow(wordcloud, interpolation=\"bilinear\")\n",
    "    plt.axis(\"off\")\n",
    "    plt.savefig(f\"data/{video_id}/wordcloud.png\", bbox_inches='tight', dpi=300)\n",
    "    plt.close()"
   ]
  },
  {
   "cell_type": "markdown",
   "metadata": {},
   "source": [
    "# Word Frequency\n"
   ]
  },
  {
   "cell_type": "code",
   "execution_count": null,
   "metadata": {},
   "outputs": [],
   "source": []
  },
  {
   "cell_type": "code",
   "execution_count": null,
   "metadata": {},
   "outputs": [],
   "source": []
  },
  {
   "cell_type": "code",
   "execution_count": null,
   "metadata": {},
   "outputs": [],
   "source": []
  },
  {
   "cell_type": "code",
   "execution_count": null,
   "metadata": {},
   "outputs": [],
   "source": []
  },
  {
   "cell_type": "code",
   "execution_count": null,
   "metadata": {},
   "outputs": [],
   "source": []
  }
 ],
 "metadata": {
  "kernelspec": {
   "display_name": "Python 3",
   "language": "python",
   "name": "python3"
  },
  "language_info": {
   "codemirror_mode": {
    "name": "ipython",
    "version": 3
   },
   "file_extension": ".py",
   "mimetype": "text/x-python",
   "name": "python",
   "nbconvert_exporter": "python",
   "pygments_lexer": "ipython3",
   "version": "3.11.0"
  }
 },
 "nbformat": 4,
 "nbformat_minor": 2
}
