{
 "cells": [
  {
   "cell_type": "code",
   "execution_count": 1,
   "metadata": {},
   "outputs": [],
   "source": [
    "import os\n",
    "import re\n",
    "\n",
    "import pandas as pd\n",
    "\n",
    "# %pip install youtube-comment-downloader\n",
    "from youtube_comment_downloader import YoutubeCommentDownloader, SORT_BY_RECENT\n",
    "\n",
    "# %pip install wordcloud\n",
    "import wordcloud\n",
    "from wordcloud import WordCloud, STOPWORDS\n",
    "\n",
    "# %pip install matplotlib\n",
    "import matplotlib.pyplot as plt\n",
    "\n",
    "# %pip install nltk\n",
    "import nltk\n",
    "# nltk.download('all')\n",
    "from nltk.tokenize import word_tokenize\n",
    "from nltk.corpus import stopwords\n",
    "\n",
    "# %pip install Sastrawi\n",
    "from Sastrawi.Stemmer.StemmerFactory import StemmerFactory\n",
    "\n",
    "import matplotlib.pyplot as plt"
   ]
  },
  {
   "cell_type": "code",
   "execution_count": 8,
   "metadata": {},
   "outputs": [],
   "source": [
    "from concurrent.futures import ThreadPoolExecutor\n",
    "\n",
    "YOUTUBES_VIDEO_ID = [\"-6ZRL6AhPWk\"]\n",
    "\n",
    "try:\n",
    "    def process_video(video_id):\n",
    "        download_comments(video_id)\n",
    "        generate_wordcloud(video_id)\n",
    "        generate_word_frequency(video_id)\n",
    "    \n",
    "    with ThreadPoolExecutor(max_workers=4) as executor:\n",
    "        executor.map(process_video, YOUTUBES_VIDEO_ID)\n",
    "except NameError as e:\n",
    "    pass"
   ]
  },
  {
   "cell_type": "markdown",
   "metadata": {},
   "source": [
    "# Download Comments"
   ]
  },
  {
   "cell_type": "code",
   "execution_count": 3,
   "metadata": {},
   "outputs": [],
   "source": [
    "def download_comments(video_id):\n",
    "    downloader = YoutubeCommentDownloader()\n",
    "    comments = downloader.get_comments(video_id, sort_by=SORT_BY_RECENT)\n",
    "\n",
    "    comments = pd.DataFrame(comments)\n",
    "\n",
    "    print(f\"Total Comments: {len(comments)}\")\n",
    "\n",
    "    os.makedirs(f\"data/{video_id}\", exist_ok=True)\n",
    "\n",
    "    # Save to CSV\n",
    "    comments.to_feather(f\"data/{video_id}/comments.feather\")\n",
    "\n",
    "    print(comments.iloc[0])\n",
    "    return comments"
   ]
  },
  {
   "cell_type": "markdown",
   "metadata": {},
   "source": [
    "# Word Cloud"
   ]
  },
  {
   "cell_type": "markdown",
   "metadata": {},
   "source": [
    "### Get All Comments"
   ]
  },
  {
   "cell_type": "code",
   "execution_count": 4,
   "metadata": {},
   "outputs": [],
   "source": [
    "def get_comments(video_id):\n",
    "    if os.path.exists(f\"data/{video_id}/all_comments.txt\"):\n",
    "        with open(f\"data/{video_id}/all_comments.txt\", \"r\") as f:\n",
    "            all_comments = f.read()\n",
    "    else:\n",
    "        comments = pd.read_feather(f\"data/{video_id}/comments.feather\")\n",
    "\n",
    "        all_comments = \"\"\n",
    "\n",
    "        for i in range(len(comments)):\n",
    "            comment = comments.iloc[i]['text'].lower()\n",
    "            comment = re.sub('[^a-zA-Z\\s]', '', comment)\n",
    "            comment = re.sub('\\s+', ' ', comment)  # Clean multiple spaces into single space\n",
    "            all_comments += comment\n",
    "\n",
    "        with open(f\"data/{video_id}/all_comments.txt\", \"w\") as f:\n",
    "            f.write(all_comments)\n",
    "    \n",
    "    return all_comments\n"
   ]
  },
  {
   "cell_type": "markdown",
   "metadata": {},
   "source": [
    "### Tokenize & Stopwords & Stemming"
   ]
  },
  {
   "cell_type": "code",
   "execution_count": 5,
   "metadata": {},
   "outputs": [],
   "source": [
    "def tokenize_stopwords_stemming(comments, stopwords_extend=[]):\n",
    "    # Tokenize\n",
    "    tokens = word_tokenize(comments)\n",
    "\n",
    "    # Stopwords\n",
    "    stop_words = stopwords.words(\"indonesian\")\n",
    "    stop_words.extend(stopwords_extend)\n",
    "    \n",
    "    tokens_stopwords = [word for word in tokens if word not in set(stop_words)]\n",
    "\n",
    "    # Stemming\n",
    "    factory = StemmerFactory()\n",
    "    stemmer = factory.create_stemmer()\n",
    "    tokens_stemming = [stemmer.stem(word) for word in tokens_stopwords]\n",
    "\n",
    "    return tokens_stemming"
   ]
  },
  {
   "cell_type": "markdown",
   "metadata": {},
   "source": [
    "### Generate Word Frequency\n"
   ]
  },
  {
   "cell_type": "code",
   "execution_count": 6,
   "metadata": {},
   "outputs": [],
   "source": [
    "def generate_word_frequency(video_id, n=20):\n",
    "    all_comments = get_comments(video_id)\n",
    "    tokens_stopwords = tokenize_stopwords_stemming(all_comments)\n",
    "\n",
    "    word_freq = nltk.FreqDist(tokens_stopwords)    \n",
    "    word_freq.plot(n, cumulative=False)\n",
    "\n",
    "    plt.savefig(f\"data/{video_id}/word_frequency.png\", bbox_inches='tight', dpi=300)\n",
    "    plt.close()"
   ]
  },
  {
   "cell_type": "markdown",
   "metadata": {},
   "source": [
    "### Generate Word Cloud"
   ]
  },
  {
   "cell_type": "code",
   "execution_count": 7,
   "metadata": {},
   "outputs": [],
   "source": [
    "def generate_wordcloud(video_id):\n",
    "    all_comments = get_comments(video_id)\n",
    "    tokens_stopwords = tokenize_stopwords_stemming(all_comments)\n",
    "\n",
    "    wordcloud = WordCloud(width=800, height=400, background_color=\"white\").generate(\" \".join(tokens_stopwords))\n",
    "\n",
    "    # Display the word cloud\n",
    "\n",
    "    plt.figure(figsize=(10, 5))\n",
    "\n",
    "    plt.imshow(wordcloud, interpolation=\"bilinear\")\n",
    "\n",
    "    plt.axis(\"off\")\n",
    "\n",
    "    plt.savefig(f\"data/{video_id}/wordcloud.png\", bbox_inches='tight', dpi=300)\n",
    "    plt.close()"
   ]
  },
  {
   "cell_type": "markdown",
   "metadata": {},
   "source": [
    "# Word Frequency\n"
   ]
  },
  {
   "cell_type": "code",
   "execution_count": null,
   "metadata": {},
   "outputs": [],
   "source": []
  },
  {
   "cell_type": "code",
   "execution_count": null,
   "metadata": {},
   "outputs": [],
   "source": []
  },
  {
   "cell_type": "code",
   "execution_count": null,
   "metadata": {},
   "outputs": [],
   "source": []
  },
  {
   "cell_type": "code",
   "execution_count": null,
   "metadata": {},
   "outputs": [],
   "source": []
  },
  {
   "cell_type": "code",
   "execution_count": null,
   "metadata": {},
   "outputs": [],
   "source": []
  }
 ],
 "metadata": {
  "kernelspec": {
   "display_name": "Python 3",
   "language": "python",
   "name": "python3"
  },
  "language_info": {
   "codemirror_mode": {
    "name": "ipython",
    "version": 3
   },
   "file_extension": ".py",
   "mimetype": "text/x-python",
   "name": "python",
   "nbconvert_exporter": "python",
   "pygments_lexer": "ipython3",
   "version": "3.11.0"
  }
 },
 "nbformat": 4,
 "nbformat_minor": 2
}
